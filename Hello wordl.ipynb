{
 "cells": [
  {
   "cell_type": "code",
   "execution_count": 1,
   "id": "64192a14-dae4-461a-b222-58072da07afa",
   "metadata": {},
   "outputs": [],
   "source": [
    "# Import module\n",
    "import datetime\n"
   ]
  },
  {
   "cell_type": "code",
   "execution_count": 2,
   "id": "1d396699-f07a-46b4-b16b-f436c5015e99",
   "metadata": {},
   "outputs": [],
   "source": [
    "current_time = datetime.datetime.now()"
   ]
  },
  {
   "cell_type": "code",
   "execution_count": 5,
   "id": "b7bb0572-9a75-43e7-bbca-37aa8c31580a",
   "metadata": {},
   "outputs": [
    {
     "name": "stdout",
     "output_type": "stream",
     "text": [
      "Hello world, today is 2022-05-02T14:58:01.542782\n"
     ]
    }
   ],
   "source": [
    "# Print time\n",
    "print('Hello world, today is', current_time.isoformat())"
   ]
  },
  {
   "cell_type": "code",
   "execution_count": null,
   "id": "b09d6e80-9c7c-4c7e-b462-b7ab8b15e8ab",
   "metadata": {},
   "outputs": [],
   "source": []
  }
 ],
 "metadata": {
  "kernelspec": {
   "display_name": "Python 3",
   "language": "python",
   "name": "python3"
  },
  "language_info": {
   "codemirror_mode": {
    "name": "ipython",
    "version": 3
   },
   "file_extension": ".py",
   "mimetype": "text/x-python",
   "name": "python",
   "nbconvert_exporter": "python",
   "pygments_lexer": "ipython3",
   "version": "3.8.8"
  }
 },
 "nbformat": 4,
 "nbformat_minor": 5
}
